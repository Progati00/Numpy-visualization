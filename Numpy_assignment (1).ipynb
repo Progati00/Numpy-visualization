{
 "cells": [
  {
   "cell_type": "markdown",
   "id": "a6fdf975",
   "metadata": {},
   "source": [
    "# Q1. Explain the purpose and advantages of NumPy in scientific computing and data analysis. How does it enhance Python's capabilities for numerical operations?\n",
    "\n",
    "### A1:\n",
    "\n",
    "Purpose and Advantages of NumPy in Scientific Computing: NumPy enhances Python's capabilities by providing high-performance multi-dimensional arrays and a range of mathematical functions for operating on these arrays.\n",
    "It supports scientific computing and data analysis by offering tools for efficient numerical computation, which are much faster than Python’s native lists, especially for large data sets."
   ]
  },
  {
   "cell_type": "markdown",
   "id": "0fa05a63",
   "metadata": {},
   "source": [
    "# Q2.  Compare and contrast np.mean() and np.average() functions in NumPy. When would you use one over the other?\n",
    "\n",
    "### A2:\n",
    "\n",
    "Both functions np.mean() and np.average() compute the mean of an array. \n",
    "The key difference is that np.average() allows for weighting each element in the array. You would use np.mean() when you need a simple average, and np.average() when you have a weighted dataset.\n"
   ]
  },
  {
   "cell_type": "code",
   "execution_count": 1,
   "id": "3750a737",
   "metadata": {},
   "outputs": [
    {
     "name": "stdout",
     "output_type": "stream",
     "text": [
      "Mean value 4.0\n"
     ]
    }
   ],
   "source": [
    "import numpy as np\n",
    "a = np.array([1,2,3,4,5,6,7])\n",
    "mean_value = np.mean(a)\n",
    "print(\"Mean value\", mean_value)"
   ]
  },
  {
   "cell_type": "code",
   "execution_count": 6,
   "id": "9f64058e",
   "metadata": {},
   "outputs": [
    {
     "name": "stdout",
     "output_type": "stream",
     "text": [
      "Weighted Average 3.888888888888889\n"
     ]
    }
   ],
   "source": [
    "arr = np.array([1, 2, 3, 4, 5])\n",
    "weights = np.array([1, 1, 1, 1, 5])\n",
    "weighted_avg = np.average(arr, weights = weights)\n",
    "print(\"Weighted Average\", weighted_avg)"
   ]
  },
  {
   "cell_type": "markdown",
   "id": "1781975a",
   "metadata": {},
   "source": [
    "# Q3.  Describe the methods for reversing a NumPy array along different axes. Provide examples for 1D and 2D arrays.\n",
    "\n",
    "### A3:\n",
    "\n",
    " You can reverse arrays along different axes using slicing:\n",
    "\n",
    "For a 1D array: arr[::-1].\n",
    "\n",
    "For a 2D array (matrix): Reverse it along different axes, i.e Reverse rows (reverse the order of the rows) with arr[::-1] or columns (reverse the order of the columns) with arr[:, ::-1]."
   ]
  },
  {
   "cell_type": "code",
   "execution_count": 7,
   "id": "6371f69b",
   "metadata": {},
   "outputs": [
    {
     "name": "stdout",
     "output_type": "stream",
     "text": [
      "Original array: [1 2 3 4 5]\n",
      "Reversed array: [5 4 3 2 1]\n"
     ]
    }
   ],
   "source": [
    "import numpy as np\n",
    "\n",
    "# 1D array\n",
    "\n",
    "a = np.array([1, 2, 3, 4, 5])\n",
    "reversed_a = a[::-1]\n",
    "print(\"Original array:\", a)\n",
    "print(\"Reversed array:\", reversed_a)"
   ]
  },
  {
   "cell_type": "code",
   "execution_count": 8,
   "id": "dfec8f60",
   "metadata": {},
   "outputs": [
    {
     "name": "stdout",
     "output_type": "stream",
     "text": [
      "Original 2D array:\n",
      " [[1 2 3]\n",
      " [4 5 6]\n",
      " [7 8 9]]\n",
      "Reversed rows:\n",
      " [[7 8 9]\n",
      " [4 5 6]\n",
      " [1 2 3]]\n"
     ]
    }
   ],
   "source": [
    "import numpy as np\n",
    "\n",
    "# 2D array\n",
    "\n",
    "a = np.array([[1,2,3],\n",
    "              [4,5,6],\n",
    "              [7,8,9]])\n",
    "reversed_row = a[::-1]\n",
    "print(\"Original 2D array:\\n\", a)\n",
    "print(\"Reversed rows:\\n\", reversed_row)"
   ]
  },
  {
   "cell_type": "code",
   "execution_count": 9,
   "id": "8705d006",
   "metadata": {},
   "outputs": [
    {
     "name": "stdout",
     "output_type": "stream",
     "text": [
      "Reversed columns:\n",
      " [[3 2 1]\n",
      " [6 5 4]\n",
      " [9 8 7]]\n"
     ]
    }
   ],
   "source": [
    "reversed_column = a[:, ::-1]\n",
    "print(\"Reversed columns:\\n\", reversed_column)"
   ]
  },
  {
   "cell_type": "markdown",
   "id": "004dbbac",
   "metadata": {},
   "source": [
    "# Q4. How can you determine the data type of elements in a NumPy array? Discuss the importance of data types in memory management and performance.\n",
    "\n",
    "### A4:\n",
    "\n",
    "Use the dtype attribute (e.g., arr.dtype) to check the data type.\n",
    "\n",
    "Data types are important for memory efficiency and performance, as NumPy arrays are stored in contiguous memory locations, allowing fast access and modification."
   ]
  },
  {
   "cell_type": "markdown",
   "id": "4e550669",
   "metadata": {},
   "source": [
    "# Q5. Define ndarrays in NumPy and explain their key features. How do they differ from standard Python lists?\n",
    "\n",
    "\n",
    "### A5:\n",
    "\n",
    "NumPy’s core object is the ndarray, a homogeneous array object of fixed size. \n",
    "\n",
    "Key features include support for multi-dimensional arrays, mathematical operations, and broadcasting. \n",
    "\n",
    "Unlike Python lists, ndarrays are more memory efficient and faster due to optimized C-based routines."
   ]
  },
  {
   "cell_type": "markdown",
   "id": "87981536",
   "metadata": {},
   "source": [
    "# Q6. Analyze the performance benefits of NumPy arrays over Python lists for large-scale numerical operations.\n",
    "\n",
    "\n",
    "### A6: \n",
    "\n",
    "NumPy arrays offer significant performance benefits over Python lists for large-scale numerical operations:\n",
    "\n",
    "1. NumPy uses fixed data types and contiguous memory allocation and Python lists are more memory-intensive with scattered storage.\n",
    "2. NumPy supports vectorized operations, allowing entire arrays to be processed without explicit loops, unlike Python lists which require slower iteration.\n",
    "3. NumPy reduces overhead and supports in-place operations, speeding up tasks like addition and multiplication.\n",
    "4. NumPy is far more efficient than Python lists for handling large-scale data and complex computations."
   ]
  },
  {
   "cell_type": "markdown",
   "id": "f8e14908",
   "metadata": {},
   "source": [
    "# Q7.  Compare vstack() and hstack() functions in NumPy. Provide examples demonstrating their usage and output.\n",
    "\n",
    "\n",
    "### A7: \n",
    "\n",
    "vstack() stacks arrays vertically (row-wise) and hstack() stacks arrays horizontally (column-wise).\n",
    "\n",
    "vstack((a, b)): Stack arrays a and b along rows.\n",
    "\n",
    "hstack((a, b)): Stack arrays a and b along columns."
   ]
  },
  {
   "cell_type": "code",
   "execution_count": 10,
   "id": "d866e082",
   "metadata": {},
   "outputs": [
    {
     "name": "stdout",
     "output_type": "stream",
     "text": [
      "[[1]\n",
      " [2]\n",
      " [3]]\n"
     ]
    }
   ],
   "source": [
    "import numpy as np\n",
    "a = np.array([1, 2, 3])\n",
    "\n",
    "# Vertical stacking\n",
    "result_vstack = np.vstack((a))\n",
    "print(result_vstack)"
   ]
  },
  {
   "cell_type": "code",
   "execution_count": 11,
   "id": "2381a6e1",
   "metadata": {},
   "outputs": [
    {
     "name": "stdout",
     "output_type": "stream",
     "text": [
      "[1 2 3]\n"
     ]
    }
   ],
   "source": [
    "import numpy as np\n",
    "b = np.array([1, 2, 3])\n",
    "\n",
    "# Horizontal stacking\n",
    "result_hstack = np.hstack((b))\n",
    "print(result_hstack)"
   ]
  },
  {
   "cell_type": "markdown",
   "id": "1db6814a",
   "metadata": {},
   "source": [
    "# Q8. Explain the differences between fliplr() and flipud() methods in NumPy, including their effects on various array dimensions.\n",
    "\n",
    "### A8:\n",
    "\n",
    "fliplr() flips an array left to right (horizontal axis).It flips the array along its second axis (axis 1), which corresponds to columns.\n",
    "\n",
    "flipud() flips an array upside down (vertical axis). It flips the array along its first axis (axis 0), which corresponds to rows."
   ]
  },
  {
   "cell_type": "code",
   "execution_count": 12,
   "id": "c62e7391",
   "metadata": {},
   "outputs": [
    {
     "name": "stdout",
     "output_type": "stream",
     "text": [
      "[[3 2 1]\n",
      " [6 5 4]\n",
      " [9 8 7]]\n"
     ]
    }
   ],
   "source": [
    "import numpy as np\n",
    "\n",
    "a = np.array([[1, 2, 3],\n",
    "              [4, 5, 6],\n",
    "              [7, 8, 9]])\n",
    "\n",
    "result_fliplr = np.fliplr(a)\n",
    "print(result_fliplr)"
   ]
  },
  {
   "cell_type": "code",
   "execution_count": 13,
   "id": "8cf8f46b",
   "metadata": {},
   "outputs": [
    {
     "name": "stdout",
     "output_type": "stream",
     "text": [
      "[[7 8 9]\n",
      " [4 5 6]\n",
      " [1 2 3]]\n"
     ]
    }
   ],
   "source": [
    "result_flipud = np.flipud(a)\n",
    "print(result_flipud)"
   ]
  },
  {
   "cell_type": "markdown",
   "id": "7dcdc9f1",
   "metadata": {},
   "source": [
    "# Q9.  Discuss the functionality of the array_split() method in NumPy. How does it handle uneven splits?\n",
    "\n",
    "### A9:\n",
    "\n",
    "array_split() method splits an array into multiple sub-arrays.It allows uneven splits, where the final sub-array may have fewer elements if the array does not divide evenly.\n",
    "\n",
    "If the array cannot be evenly divided by the number of splits, the first few sub-arrays will receive an extra element to handle the remainder."
   ]
  },
  {
   "cell_type": "code",
   "execution_count": 14,
   "id": "531c158a",
   "metadata": {},
   "outputs": [
    {
     "name": "stdout",
     "output_type": "stream",
     "text": [
      "[array([1, 2, 3]), array([4, 5, 6])]\n"
     ]
    }
   ],
   "source": [
    "import numpy as np\n",
    "a = np.array([1, 2, 3, 4, 5, 6])\n",
    "\n",
    "# Split into 2 parts\n",
    "result = np.array_split(a, 2)\n",
    "print(result)"
   ]
  },
  {
   "cell_type": "code",
   "execution_count": 15,
   "id": "7937b1f5",
   "metadata": {},
   "outputs": [
    {
     "name": "stdout",
     "output_type": "stream",
     "text": [
      "[array([[1],\n",
      "       [4],\n",
      "       [7]]), array([[2],\n",
      "       [5],\n",
      "       [8]]), array([[3],\n",
      "       [6],\n",
      "       [9]]), array([], shape=(3, 0), dtype=int32)]\n"
     ]
    }
   ],
   "source": [
    "b = np.array([[1, 2, 3],\n",
    "              [4, 5, 6],\n",
    "              [7, 8, 9]])\n",
    "\n",
    "# Split along axis 1 (columns) into 4 parts\n",
    "result = np.array_split(b, 4, axis=1)\n",
    "print(result)"
   ]
  },
  {
   "cell_type": "markdown",
   "id": "3c060d74",
   "metadata": {},
   "source": [
    "# Q10.  Explain the concepts of vectorization and broadcasting in NumPy. How do they contribute to efficient array operations.\n",
    "\n",
    "\n",
    "### A10:\n",
    "\n",
    "Vectorization allows operations to be applied on entire arrays without explicit loops. Broadcasting enables arithmetic operations between arrays of different shapes by expanding smaller arrays to match the larger shape, both contributing to efficient computation.\n",
    "\n",
    "Vectorization and broadcasting improve Python speed by eliminating Python loops and function call overhead, while also allowing operations on arrays of varying sizes without additional memory usage."
   ]
  },
  {
   "cell_type": "markdown",
   "id": "d89de47f",
   "metadata": {},
   "source": [
    "# Practical Questions:\n",
    "\n",
    "\n",
    "# 1. Create a 3x3 NumPy array with random integers between 1 and 100. Then, interchange its rows and columns.\n",
    "\n",
    "### A1: \n",
    "\n"
   ]
  },
  {
   "cell_type": "code",
   "execution_count": 16,
   "id": "47601a36",
   "metadata": {},
   "outputs": [
    {
     "name": "stdout",
     "output_type": "stream",
     "text": [
      "Original Array\n",
      "[[ 58  43  15]\n",
      " [100  84  61]\n",
      " [ 97  52  17]]\n",
      "\n",
      "Transposed Array\n",
      "[[ 58 100  97]\n",
      " [ 43  84  52]\n",
      " [ 15  61  17]]\n"
     ]
    }
   ],
   "source": [
    "import numpy as np\n",
    "\n",
    "# 3x3 array with random integers between 1 and 100\n",
    "a = np.random.randint(1, 101, size=(3, 3))\n",
    "print(\"Original Array\")\n",
    "print(a)\n",
    "\n",
    "# Interchange rows and columns or transpose the array\n",
    "transposed_array = a.T\n",
    "print(\"\\nTransposed Array\")\n",
    "print(transposed_array)"
   ]
  },
  {
   "cell_type": "markdown",
   "id": "f72fb362",
   "metadata": {},
   "source": [
    "#  2. Generate a 1D NumPy array with 10 elements. Reshape it into a 2x5 array, then into a 5x2 array.\n",
    "\n",
    "### A2:\n"
   ]
  },
  {
   "cell_type": "code",
   "execution_count": 18,
   "id": "57d2e188",
   "metadata": {},
   "outputs": [
    {
     "name": "stdout",
     "output_type": "stream",
     "text": [
      "Original Array\n",
      "[0 1 2 3 4 5 6 7 8 9]\n",
      "\n",
      "Reshaped into 2x5 Array\n",
      "[[0 1 2 3 4]\n",
      " [5 6 7 8 9]]\n",
      "\n",
      "Reshaped into 5x2 Array\n",
      "[[0 1]\n",
      " [2 3]\n",
      " [4 5]\n",
      " [6 7]\n",
      " [8 9]]\n"
     ]
    }
   ],
   "source": [
    "import numpy as np\n",
    "\n",
    "# 10 elements (e.g., numbers from 0 to 9)\n",
    "a = np.arange(10)\n",
    "print(\"Original Array\")\n",
    "print(a)\n",
    "\n",
    "# Reshape the array into a 2x5 array\n",
    "a_2x5 = a.reshape(2, 5)\n",
    "print(\"\\nReshaped into 2x5 Array\")\n",
    "print(a_2x5)\n",
    "\n",
    "# Reshape the array into a 5x2 array\n",
    "a_5x2 = a_2x5.reshape(5, 2)\n",
    "print(\"\\nReshaped into 5x2 Array\")\n",
    "print(a_5x2)"
   ]
  },
  {
   "cell_type": "markdown",
   "id": "27ea5087",
   "metadata": {},
   "source": [
    "#  3. Create a 4x4 NumPy array with random float values. Add a border of zeros around it, resulting in a 6x6 array.\n",
    "\n",
    "\n",
    "### A3:"
   ]
  },
  {
   "cell_type": "code",
   "execution_count": 19,
   "id": "297bfe32",
   "metadata": {},
   "outputs": [
    {
     "name": "stdout",
     "output_type": "stream",
     "text": [
      "[[0.         0.         0.         0.         0.         0.        ]\n",
      " [0.         0.38555483 0.16101127 0.0469808  0.87423395 0.        ]\n",
      " [0.         0.34446639 0.85153407 0.32799842 0.10119351 0.        ]\n",
      " [0.         0.32797679 0.22499598 0.74627884 0.66890414 0.        ]\n",
      " [0.         0.71006635 0.52147749 0.61091885 0.55225075 0.        ]\n",
      " [0.         0.         0.         0.         0.         0.        ]]\n"
     ]
    }
   ],
   "source": [
    "import numpy as np\n",
    "a_4x4 = np.random.rand(4, 4)\n",
    "\n",
    "# Add a border of zeros around the array\n",
    "a_6x6 = np.pad(a_4x4, pad_width=1, mode='constant', constant_values=0)\n",
    "\n",
    "print(a_6x6)"
   ]
  },
  {
   "cell_type": "markdown",
   "id": "fdb900d1",
   "metadata": {},
   "source": [
    "#  4. Using NumPy, create an array of integers from 10 to 60 with a step of 5.\n",
    "\n",
    "### A4:"
   ]
  },
  {
   "cell_type": "code",
   "execution_count": 20,
   "id": "2952c0ba",
   "metadata": {},
   "outputs": [
    {
     "name": "stdout",
     "output_type": "stream",
     "text": [
      "[10 15 20 25 30 35 40 45 50 55 60]\n"
     ]
    }
   ],
   "source": [
    "import numpy as np\n",
    "a = np.arange(10, 61, 5)\n",
    "print(a)"
   ]
  },
  {
   "cell_type": "markdown",
   "id": "ba50b9de",
   "metadata": {},
   "source": [
    "#  5. Create a NumPy array of strings ['python', 'numpy', 'pandas']. Apply different case transformations (uppercase, lowercase, title case, etc.) to each element.\n",
    "\n",
    "\n",
    "### A5: "
   ]
  },
  {
   "cell_type": "code",
   "execution_count": 21,
   "id": "fac4c1e0",
   "metadata": {},
   "outputs": [
    {
     "name": "stdout",
     "output_type": "stream",
     "text": [
      "['PYTHON' 'NUMPY' 'PANDAS']\n",
      "['python' 'numpy' 'pandas']\n",
      "['Python' 'Numpy' 'Pandas']\n"
     ]
    }
   ],
   "source": [
    "import numpy as np\n",
    "a = np.array(['python', 'numpy', 'pandas'])\n",
    "a_upper = np.char.upper(a)\n",
    "a_lower = np.char.lower(a)\n",
    "a_title = np.char.title(a)\n",
    "print(a_upper)\n",
    "print(a_lower)\n",
    "print(a_title)"
   ]
  },
  {
   "cell_type": "markdown",
   "id": "fa40fb00",
   "metadata": {},
   "source": [
    "#  6. Generate a NumPy array of words. Insert a space between each character of every word in the array.\n",
    "\n",
    "\n",
    "### A6: "
   ]
  },
  {
   "cell_type": "code",
   "execution_count": 22,
   "id": "0669e178",
   "metadata": {},
   "outputs": [
    {
     "name": "stdout",
     "output_type": "stream",
     "text": [
      "['C o w' 'S h e e p' 'M o n k e y' 'D o g']\n"
     ]
    }
   ],
   "source": [
    "import numpy as np\n",
    "\n",
    "w = np.array(['Cow', 'Sheep', 'Monkey', 'Dog'])\n",
    "spaced_w = np.array([' '.join(word) for word in w])\n",
    "print(spaced_w)"
   ]
  },
  {
   "cell_type": "markdown",
   "id": "ef7de4b2",
   "metadata": {},
   "source": [
    "#  7. Create two 2D NumPy arrays and perform element-wise addition, subtraction, multiplication, and division.\n",
    "\n",
    "\n",
    "### A7:"
   ]
  },
  {
   "cell_type": "code",
   "execution_count": 26,
   "id": "3c5f7fdd",
   "metadata": {},
   "outputs": [
    {
     "name": "stdout",
     "output_type": "stream",
     "text": [
      "addition:\n",
      " [[16  9]\n",
      " [ 9 12]]\n",
      "subtraction:\n",
      " [[-2  3]\n",
      " [ 7 -6]]\n",
      "multiplication:\n",
      " [[63 18]\n",
      " [ 8 27]]\n",
      "division:\n",
      " [[0.77777778 2.        ]\n",
      " [8.         0.33333333]]\n"
     ]
    }
   ],
   "source": [
    "import numpy as np\n",
    "a = np.random.randint(1, 10, (2, 2))\n",
    "b = np.random.randint(1, 10, (2, 2))\n",
    "addition = a + b\n",
    "subtraction = a - b\n",
    "multiplication = a * b\n",
    "division = a / b\n",
    "print(\"addition:\\n\", addition)\n",
    "print(\"subtraction:\\n\" , subtraction)\n",
    "print(\"multiplication:\\n\" , multiplication)\n",
    "print(\"division:\\n\" , division)"
   ]
  },
  {
   "cell_type": "markdown",
   "id": "55b934c0",
   "metadata": {},
   "source": [
    "#  8. Use NumPy to create a 5x5 identity matrix, then extract its diagonal elements.\n",
    "\n",
    "\n",
    "### A8:"
   ]
  },
  {
   "cell_type": "code",
   "execution_count": 27,
   "id": "86318ab3",
   "metadata": {},
   "outputs": [
    {
     "name": "stdout",
     "output_type": "stream",
     "text": [
      "Identity Matrix:\n",
      " [[1. 0. 0. 0. 0.]\n",
      " [0. 1. 0. 0. 0.]\n",
      " [0. 0. 1. 0. 0.]\n",
      " [0. 0. 0. 1. 0.]\n",
      " [0. 0. 0. 0. 1.]]\n",
      "Diagonal Elements: [1. 1. 1. 1. 1.]\n"
     ]
    }
   ],
   "source": [
    "import numpy as np\n",
    "identity_matrix = np.eye(5)\n",
    "\n",
    "# Extract the diagonal elements\n",
    "diagonal_elements = np.diag(identity_matrix)\n",
    "\n",
    "print(\"Identity Matrix:\\n\", identity_matrix)\n",
    "print(\"Diagonal Elements:\", diagonal_elements)"
   ]
  },
  {
   "cell_type": "markdown",
   "id": "719fd293",
   "metadata": {},
   "source": [
    "# 9. Generate a NumPy array of 100 random integers between 0 and 1000. Find and display all prime numbers in this array.\n",
    "\n",
    "\n",
    "### A9:"
   ]
  },
  {
   "cell_type": "code",
   "execution_count": 29,
   "id": "4c0f75c2",
   "metadata": {},
   "outputs": [
    {
     "name": "stdout",
     "output_type": "stream",
     "text": [
      "Random Integers:\n",
      " [770 239 323  59 994 104 455 227 168 316 817 521  41 705 731  44 695 919\n",
      " 473 372 790 527 298 935 328 101 881 448 328 247 175 692 609 196 413 129\n",
      "  60 654 770 435 481 196 950 725 430 258 994  29   2 401 169 845 856 655\n",
      " 726  94 428 859 564 578 346 213 556 747 470 467 956 559 955 807 490 317\n",
      " 250  29 154 729  18 999 933 786 890 758 342 131 338 540 352 564 265 379\n",
      "  24 498 830 993  69 444 988 252 275 914]\n",
      "Prime Numbers in the Array:\n",
      " [239  59 227 521  41 919 101 881  29   2 401 859 467 317  29 131 379]\n"
     ]
    }
   ],
   "source": [
    "import numpy as np\n",
    "def is_prime(num):\n",
    "    if num < 2:\n",
    "        return False\n",
    "    for i in range(2, int(np.sqrt(num)) + 1):\n",
    "        if num % i == 0:\n",
    "            return False\n",
    "    return True\n",
    "\n",
    "# Generate a NumPy array of 100 random integers between 0 and 1000\n",
    "random_integers = np.random.randint(0, 1000, 100)\n",
    "\n",
    "# Find all prime numbers in the array\n",
    "prime_numbers = np.array([num for num in random_integers if is_prime(num)])\n",
    "\n",
    "print(\"Random Integers:\\n\", random_integers)\n",
    "print(\"Prime Numbers in the Array:\\n\", prime_numbers)"
   ]
  },
  {
   "cell_type": "markdown",
   "id": "4f0ab08c",
   "metadata": {},
   "source": [
    "# 10. Create a NumPy array representing daily temperatures for a month. Calculate and display the weekly averages.\n",
    "\n",
    "\n",
    "### A10: "
   ]
  },
  {
   "cell_type": "code",
   "execution_count": 33,
   "id": "ec45b338",
   "metadata": {},
   "outputs": [
    {
     "name": "stdout",
     "output_type": "stream",
     "text": [
      "Weekly Averages: [24.85714286 22.71428571 25.         28.71428571]\n",
      "Last 2 Days Average: 23.5\n"
     ]
    }
   ],
   "source": [
    "import numpy as np\n",
    "\n",
    "# temperatures for 30 days (random between 15°C and 35°C)\n",
    "temps = np.random.randint(15, 36, 30)\n",
    "\n",
    "# Reshape into 4 weeks of 7 days and calculate averages\n",
    "weekly_averages = temps[:28].reshape(4, 7).mean(axis=1)\n",
    "\n",
    "# average of last 2 days\n",
    "last_avg = temps[28:].mean()\n",
    "\n",
    "print(\"Weekly Averages:\", weekly_averages)\n",
    "print(\"Last 2 Days Average:\", last_avg)"
   ]
  },
  {
   "cell_type": "code",
   "execution_count": null,
   "id": "e8b262c5",
   "metadata": {},
   "outputs": [],
   "source": []
  }
 ],
 "metadata": {
  "kernelspec": {
   "display_name": "Python 3 (ipykernel)",
   "language": "python",
   "name": "python3"
  },
  "language_info": {
   "codemirror_mode": {
    "name": "ipython",
    "version": 3
   },
   "file_extension": ".py",
   "mimetype": "text/x-python",
   "name": "python",
   "nbconvert_exporter": "python",
   "pygments_lexer": "ipython3",
   "version": "3.11.3"
  }
 },
 "nbformat": 4,
 "nbformat_minor": 5
}
